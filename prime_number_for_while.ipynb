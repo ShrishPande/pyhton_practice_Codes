{
 "cells": [
  {
   "cell_type": "code",
   "execution_count": null,
   "metadata": {},
   "outputs": [
    {
     "name": "stdout",
     "output_type": "stream",
     "text": [
      "the number 12 has 6 no of divisor\n",
      "12 is not prime number\n"
     ]
    }
   ],
   "source": [
    "# prime number :\n",
    "num = 12\n",
    "\n",
    "c=0\n",
    "for i in range(1,num+1):\n",
    "    if num % i==0:\n",
    "        c+=1\n",
    "print(f\"the number {num} has {c} no of divisor\")\n",
    "if c==2:\n",
    "    print(f\"{num} is prime Number\")\n",
    "else:\n",
    "    print(f\"{num} is not prime number\")\n"
   ]
  },
  {
   "cell_type": "code",
   "execution_count": 1,
   "metadata": {},
   "outputs": [
    {
     "name": "stdout",
     "output_type": "stream",
     "text": [
      "the number 3 has 2 no of divisor\n",
      "3 is prime Number\n"
     ]
    }
   ],
   "source": [
    "num =int(input(\"Enter The Number\"))\n",
    "c = 0\n",
    "i = 1\n",
    "while i<=num:\n",
    "    if num%i==0:\n",
    "        c+=1\n",
    "    i+=1\n",
    "print(f\"the number {num} has {c} no of divisor\")\n",
    "if c==2:\n",
    "    print(f\"{num} is prime Number\")\n",
    "else:\n",
    "    print(f\"{num} is not prime number\")\n"
   ]
  }
 ],
 "metadata": {
  "interpreter": {
   "hash": "1baa965d5efe3ac65b79dfc60c0d706280b1da80fedb7760faf2759126c4f253"
  },
  "kernelspec": {
   "display_name": "Python 3.8.0 64-bit",
   "name": "python3"
  },
  "language_info": {
   "codemirror_mode": {
    "name": "ipython",
    "version": 3
   },
   "file_extension": ".py",
   "mimetype": "text/x-python",
   "name": "python",
   "nbconvert_exporter": "python",
   "pygments_lexer": "ipython3",
   "version": "3.8.0"
  },
  "orig_nbformat": 4
 },
 "nbformat": 4,
 "nbformat_minor": 2
}
