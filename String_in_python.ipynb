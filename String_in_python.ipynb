{
 "cells": [
  {
   "cell_type": "code",
   "execution_count": 29,
   "metadata": {},
   "outputs": [
    {
     "name": "stdout",
     "output_type": "stream",
     "text": [
      "H\n"
     ]
    }
   ],
   "source": [
    "st ='Hello python programming'\n",
    "out=st[0] #indexing\n",
    "print(out)"
   ]
  },
  {
   "cell_type": "code",
   "execution_count": 10,
   "metadata": {},
   "outputs": [
    {
     "name": "stdout",
     "output_type": "stream",
     "text": [
      "hello Python\n"
     ]
    }
   ],
   "source": [
    "#slicing vakues at range\n",
    "st ='''hello Python'''\n",
    "# out = st[::-1] #slicing range[1, 2, 3, 4]\n",
    "print(st) \n"
   ]
  },
  {
   "cell_type": "code",
   "execution_count": 5,
   "metadata": {},
   "outputs": [
    {
     "name": "stdout",
     "output_type": "stream",
     "text": [
      "HELLO 123 PYTHON\n"
     ]
    }
   ],
   "source": [
    "#upper(): convert all the letters of the string into upper case(ASCII only)\n",
    "st ='hello 123 python'\n",
    "k = st.upper()\n",
    "print(k)"
   ]
  },
  {
   "cell_type": "code",
   "execution_count": 4,
   "metadata": {},
   "outputs": [
    {
     "name": "stdout",
     "output_type": "stream",
     "text": [
      "Hello python language\n"
     ]
    }
   ],
   "source": [
    "#capitalize() : converts the first letter of string to capital letter(ASCII only)\n",
    "\n",
    "st = 'hello python language'\n",
    "out = st.capitalize() \n",
    "print(out)"
   ]
  },
  {
   "cell_type": "code",
   "execution_count": 6,
   "metadata": {},
   "outputs": [
    {
     "name": "stdout",
     "output_type": "stream",
     "text": [
      "hello 123 python\n"
     ]
    }
   ],
   "source": [
    "#lower(): convert all the letter of the string into lower case(ASCII only)\n",
    "\n",
    "st = 'HELLO 123 PYTHON'\n",
    "out = st.lower()\n",
    "print(out)"
   ]
  },
  {
   "cell_type": "code",
   "execution_count": 8,
   "metadata": {},
   "outputs": [
    {
     "name": "stdout",
     "output_type": "stream",
     "text": [
      "hello 😊\n"
     ]
    }
   ],
   "source": [
    "#casefold() (Works on unicode)\n",
    "\n",
    "st='HELLO 😊'\n",
    "out = st.casefold()\n",
    "print(out)"
   ]
  },
  {
   "cell_type": "code",
   "execution_count": 9,
   "metadata": {},
   "outputs": [
    {
     "name": "stdout",
     "output_type": "stream",
     "text": [
      "hello python programming\n"
     ]
    }
   ],
   "source": [
    "#title() convert firt letters of all te word into capital letters\n",
    "\n",
    "st = 'hello python programming'\n",
    "out = st.title()\n",
    "print(st)"
   ]
  },
  {
   "cell_type": "code",
   "execution_count": 11,
   "metadata": {},
   "outputs": [
    {
     "name": "stdout",
     "output_type": "stream",
     "text": [
      "False\n"
     ]
    }
   ],
   "source": [
    "#isupper(): return true if all the letters are in upper case\n",
    "st = \"hELLO\"\n",
    "out = st.isupper()\n",
    "print(out)"
   ]
  },
  {
   "cell_type": "code",
   "execution_count": 18,
   "metadata": {},
   "outputs": [
    {
     "name": "stdout",
     "output_type": "stream",
     "text": [
      "                                                                                                                              hello                                                                                                                               \n"
     ]
    }
   ],
   "source": [
    "#center(): return the centered string with fill\n",
    "st='hello' \n",
    "out = st.center(258,' ')\n",
    "print(out)"
   ]
  },
  {
   "cell_type": "code",
   "execution_count": 19,
   "metadata": {},
   "outputs": [
    {
     "name": "stdout",
     "output_type": "stream",
     "text": [
      "*****hello\n"
     ]
    }
   ],
   "source": [
    "#rjust(): \n",
    "st = 'hello'\n",
    "out = st.rjust(10,\"*\")\n",
    "print(out)"
   ]
  },
  {
   "cell_type": "code",
   "execution_count": 22,
   "metadata": {},
   "outputs": [
    {
     "name": "stdout",
     "output_type": "stream",
     "text": [
      "hello*****\n"
     ]
    }
   ],
   "source": [
    "#ljust():\n",
    "st = 'hello'\n",
    "out = st.ljust(10,\"*\")\n",
    "print(out)"
   ]
  },
  {
   "cell_type": "code",
   "execution_count": 26,
   "metadata": {},
   "outputs": [
    {
     "name": "stdout",
     "output_type": "stream",
     "text": [
      "-000033143\n"
     ]
    }
   ],
   "source": [
    "#zfil():\n",
    "st = '-33143'\n",
    "out = st.zfill(10)\n",
    "print(out)"
   ]
  },
  {
   "cell_type": "code",
   "execution_count": 29,
   "metadata": {},
   "outputs": [
    {
     "name": "stdout",
     "output_type": "stream",
     "text": [
      "b'shrish \\xf0\\x9f\\xa4\\xaf'\n"
     ]
    }
   ],
   "source": [
    "#encode():\n",
    "st = 'shrish 🤯'\n",
    "out = st.encode('UTF')\n",
    "print(out)"
   ]
  },
  {
   "cell_type": "code",
   "execution_count": 33,
   "metadata": {},
   "outputs": [
    {
     "name": "stdout",
     "output_type": "stream",
     "text": [
      "shrish 🤯\n"
     ]
    }
   ],
   "source": [
    "#decode():\n",
    "st =b'shrish \\xf0\\x9f\\xa4\\xaf'\n",
    "out = st.decode('utf',errors='replace')\n",
    "print(out)"
   ]
  }
 ],
 "metadata": {
  "interpreter": {
   "hash": "1baa965d5efe3ac65b79dfc60c0d706280b1da80fedb7760faf2759126c4f253"
  },
  "kernelspec": {
   "display_name": "Python 3.8.0 64-bit",
   "language": "python",
   "name": "python3"
  },
  "language_info": {
   "codemirror_mode": {
    "name": "ipython",
    "version": 3
   },
   "file_extension": ".py",
   "mimetype": "text/x-python",
   "name": "python",
   "nbconvert_exporter": "python",
   "pygments_lexer": "ipython3",
   "version": "3.8.0"
  },
  "orig_nbformat": 4
 },
 "nbformat": 4,
 "nbformat_minor": 2
}
