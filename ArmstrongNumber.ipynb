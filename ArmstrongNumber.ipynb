{
 "cells": [
  {
   "cell_type": "code",
   "execution_count": 4,
   "metadata": {},
   "outputs": [
    {
     "name": "stdout",
     "output_type": "stream",
     "text": [
      "Armstrong Number\n"
     ]
    }
   ],
   "source": [
    "num = int(input(\"Enter The Number\"))\n",
    "num = str(num)\n",
    "\n",
    "ln = len(num)\n",
    "s=0\n",
    "for i in num :\n",
    "    s += int(i) ** ln\n",
    "if s == int(num):\n",
    "    print('Armstrong Number')\n",
    "\n",
    "else:\n",
    "    print('not armstrong')"
   ]
  },
  {
   "cell_type": "code",
   "execution_count": 8,
   "metadata": {},
   "outputs": [
    {
     "name": "stdout",
     "output_type": "stream",
     "text": [
      "The numer is Armstrong Number\n"
     ]
    }
   ],
   "source": [
    "num = int(input(\"Enter The Number\"))\n",
    "n= num\n",
    "sum=0\n",
    "a=0\n",
    "\n",
    "while num>=1:\n",
    "    num /=10\n",
    "    a+=1\n",
    "num=n\n",
    "while num!=0 :\n",
    "\n",
    "    sum = sum + int(num % 10) **a\n",
    "    num = int(num/10)\n",
    "\n",
    "if sum==n:\n",
    "    print(\"The number is Armstrong Number\")\n",
    "else:\n",
    "    print(\"The Number is not Armstrong Number\")"
   ]
  }
 ],
 "metadata": {
  "interpreter": {
   "hash": "1baa965d5efe3ac65b79dfc60c0d706280b1da80fedb7760faf2759126c4f253"
  },
  "kernelspec": {
   "display_name": "Python 3.8.0 64-bit",
   "language": "python",
   "name": "python3"
  },
  "language_info": {
   "codemirror_mode": {
    "name": "ipython",
    "version": 3
   },
   "file_extension": ".py",
   "mimetype": "text/x-python",
   "name": "python",
   "nbconvert_exporter": "python",
   "pygments_lexer": "ipython3",
   "version": "3.8.0"
  },
  "orig_nbformat": 4
 },
 "nbformat": 4,
 "nbformat_minor": 2
}
